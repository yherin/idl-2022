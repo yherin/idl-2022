{
 "cells": [
  {
   "cell_type": "code",
   "execution_count": 1,
   "metadata": {
    "colab": {},
    "colab_type": "code",
    "id": "cX61QTz_WACp"
   },
   "outputs": [
    {
     "data": {
      "text/plain": [
       "'\\n   Introduction to Deep Learning (LDA-T3114)\\n   Skeleton Code for Assignment 1: Sentiment Classification on a Feed-Forward Neural Network\\n\\n   Hande Celikkanat & Miikka Silfverberg\\n'"
      ]
     },
     "execution_count": 1,
     "metadata": {},
     "output_type": "execute_result"
    }
   ],
   "source": [
    "# -*- coding: utf-8 -*-\n",
    "\"\"\"\n",
    "   Introduction to Deep Learning (LDA-T3114)\n",
    "   Skeleton Code for Assignment 1: Sentiment Classification on a Feed-Forward Neural Network\n",
    "\n",
    "   Hande Celikkanat & Miikka Silfverberg\n",
    "\"\"\""
   ]
  },
  {
   "cell_type": "code",
   "execution_count": 2,
   "metadata": {
    "colab": {},
    "colab_type": "code",
    "id": "cTgWmDBDWutR"
   },
   "outputs": [
    {
     "name": "stderr",
     "output_type": "stream",
     "text": [
      "[nltk_data] Downloading package punkt to /home/sjack/nltk_data...\n",
      "[nltk_data]   Package punkt is already up-to-date!\n"
     ]
    }
   ],
   "source": [
    "import numpy as np\n",
    "import torch\n",
    "import torch.nn as nn\n",
    "import torch.nn.functional as F\n",
    "import torch.optim as optim\n",
    "import random\n",
    "\n",
    "#ATTENTION: If necessary, add the paths to your data_semeval.py and paths.py here:\n",
    "#import sys\n",
    "#sys.path.append('</path/to/below/modules>')\n",
    "from data_semeval import *\n",
    "from paths import data_dir"
   ]
  },
  {
   "cell_type": "code",
   "execution_count": 3,
   "metadata": {
    "colab": {},
    "colab_type": "code",
    "id": "yJp3BkaHWw74"
   },
   "outputs": [],
   "source": [
    "#--- hyperparameters ---\n",
    "\n",
    "N_CLASSES = len(LABEL_INDICES)\n",
    "N_EPOCHS = 10\n",
    "LEARNING_RATE = 0.05\n",
    "BATCH_SIZE = 100\n",
    "REPORT_EVERY = 1\n",
    "IS_VERBOSE = True\n",
    "DEV = 'cpu'\n",
    "if torch.cuda.is_available():\n",
    "    DEV = torch.device(0)"
   ]
  },
  {
   "cell_type": "code",
   "execution_count": 4,
   "metadata": {
    "colab": {},
    "colab_type": "code",
    "id": "0gvAm0fHW2lH"
   },
   "outputs": [],
   "source": [
    "def make_bow(tweet, indices):\n",
    "    feature_ids = list(indices[tok] for tok in tweet['BODY'] if tok in indices)\n",
    "    bow_vec = torch.zeros(len(indices))\n",
    "    bow_vec[feature_ids] = 1\n",
    "    return bow_vec.view(1, -1)\n",
    "\n",
    "def generate_bow_representations(data):\n",
    "    vocab = set(token for tweet in data['training'] for token in tweet['BODY'])\n",
    "    vocab_size = len(vocab) \n",
    "    indices = {w:i for i, w in enumerate(vocab)}\n",
    "  \n",
    "    for split in [\"training\",\"development.input\",\"development.gold\",\n",
    "                  \"test.input\",\"test.gold\"]:\n",
    "        for tweet in data[split]:\n",
    "            tweet['BOW'] = make_bow(tweet,indices)\n",
    "\n",
    "    return indices, vocab_size\n",
    "\n",
    "# Convert string label to pytorch format.\n",
    "def label_to_idx(label):\n",
    "    return torch.LongTensor([LABEL_INDICES[label]])"
   ]
  },
  {
   "cell_type": "code",
   "execution_count": 5,
   "metadata": {
    "colab": {},
    "colab_type": "code",
    "id": "mQU98XHwW50h"
   },
   "outputs": [],
   "source": [
    "#--- model ---\n",
    "\n",
    "class FFNN(nn.Module):\n",
    "    # Feel free to add whichever arguments you like here.\n",
    "    def __init__(self, vocab_size, n_classes, extra_arg_1=None, extra_arg_2=None):\n",
    "        super(FFNN, self).__init__()\n",
    "        # WRITE CODE HERE\n",
    "\n",
    "        self.l1 = nn.Linear(vocab_size, round(vocab_size*1.25))\n",
    "        self.l2 = nn.Linear(round(vocab_size*1.25), round(vocab_size*1.25))\n",
    "        self.l3 = nn.Linear(vocab_size*2, vocab_size//2)\n",
    "        self.l4 = nn.Linear(vocab_size//2, vocab_size//8)\n",
    "        self.out = nn.Linear(vocab_size//8, n_classes)\n",
    "\n",
    "    def forward(self, x):\n",
    "        # WRITE CODE HERE\n",
    "        pass\n",
    "        x = torch.tanh(self.l1(x))\n",
    "        x = torch.dropout(x, 0.1, True)\n",
    "        x = torch.tanh(self.l2(x))\n",
    "        x = torch.dropout(x, 0.1, True)\n",
    "        x = torch.tanh(self.l3(x))\n",
    "        x = torch.dropout(x, 0.1, True)\n",
    "        x = torch.tanh(self.l4(x))\n",
    "        return torch.log_softmax(self.out(x))\n",
    "        "
   ]
  },
  {
   "cell_type": "code",
   "execution_count": 6,
   "metadata": {
    "colab": {},
    "colab_type": "code",
    "id": "iiXMR3LAW_GC"
   },
   "outputs": [],
   "source": [
    "#--- data loading ---\n",
    "data = read_semeval_datasets(data_dir)\n",
    "indices, vocab_size = generate_bow_representations(data)"
   ]
  },
  {
   "cell_type": "code",
   "execution_count": 10,
   "metadata": {
    "colab": {},
    "colab_type": "code",
    "id": "U0k4wWf8XCMr"
   },
   "outputs": [],
   "source": [
    "#--- set up ---\n",
    "\n",
    "# WRITE CODE HERE\n",
    "model = FFNN(vocab_size, N_CLASSES) #add extra arguments here if you use\n",
    "loss_function = nn.CrossEntropyLoss()\n",
    "optimizer = torch.optim.SGD(model.parameters(),lr=LEARNING_RATE)"
   ]
  },
  {
   "cell_type": "code",
   "execution_count": 9,
   "metadata": {
    "colab": {},
    "colab_type": "code",
    "id": "qAq0EdZIXJo5"
   },
   "outputs": [
    {
     "name": "stdout",
     "output_type": "stream",
     "text": [
      "epoch: 1, loss: 0.0000\n",
      "epoch: 2, loss: 0.0000\n",
      "epoch: 3, loss: 0.0000\n",
      "epoch: 4, loss: 0.0000\n",
      "epoch: 5, loss: 0.0000\n",
      "epoch: 6, loss: 0.0000\n",
      "epoch: 7, loss: 0.0000\n",
      "epoch: 8, loss: 0.0000\n",
      "epoch: 9, loss: 0.0000\n",
      "epoch: 10, loss: 0.0000\n"
     ]
    }
   ],
   "source": [
    "#--- training ---\n",
    "for epoch in range(N_EPOCHS):\n",
    "    total_loss = 0\n",
    "    # Generally speaking, it's a good idea to shuffle your\n",
    "    # datasets once every epoch.\n",
    "    random.shuffle(data['training'])    \n",
    "\n",
    "    for i in range(int(len(data['training'])/BATCH_SIZE)):\n",
    "        minibatch = data['training'][i*BATCH_SIZE:(i+1)*BATCH_SIZE]\n",
    "        \n",
    "                   \n",
    "        pass\n",
    "                              \n",
    "    if ((epoch+1) % REPORT_EVERY) == 0:\n",
    "        print('epoch: %d, loss: %.4f' % (epoch+1, total_loss*BATCH_SIZE/len(data['training'])))\n"
   ]
  },
  {
   "cell_type": "code",
   "execution_count": null,
   "metadata": {
    "colab": {},
    "colab_type": "code",
    "id": "47CYoN-RXLfl"
   },
   "outputs": [],
   "source": [
    "#--- test ---\n",
    "correct = 0\n",
    "with torch.no_grad():\n",
    "    for tweet in data['test.gold']:\n",
    "        gold_class = label_to_idx(tweet['SENTIMENT'])\n",
    "\n",
    "        # WRITE CODE HERE\n",
    "        # You can, but for the sake of this homework do not have to,\n",
    "        # use batching for the test data.\n",
    "        predicted = -1\n",
    "\n",
    "        if IS_VERBOSE:\n",
    "            print('TEST DATA: %s, GOLD LABEL: %s, GOLD CLASS %d, OUTPUT: %d' % \n",
    "                 (' '.join(tweet['BODY'][:-1]), tweet['SENTIMENT'], gold_class, predicted))\n",
    "\n",
    "    print('test accuracy: %.2f' % (100.0 * correct / len(data['test.gold'])))"
   ]
  },
  {
   "cell_type": "code",
   "execution_count": null,
   "metadata": {},
   "outputs": [],
   "source": []
  }
 ],
 "metadata": {
  "colab": {
   "collapsed_sections": [],
   "name": "DL_hw1.ipynb",
   "provenance": [],
   "version": "0.3.2"
  },
  "interpreter": {
   "hash": "36f4a23a3aeb4883add478eb7e532620deee326c7dac1d5dbba430c6327c8f89"
  },
  "kernelspec": {
   "display_name": "Python [conda env:torch]",
   "language": "python",
   "name": "python3"
  },
  "language_info": {
   "codemirror_mode": {
    "name": "ipython",
    "version": 3
   },
   "file_extension": ".py",
   "mimetype": "text/x-python",
   "name": "python",
   "nbconvert_exporter": "python",
   "pygments_lexer": "ipython3",
   "version": "3.9.9"
  }
 },
 "nbformat": 4,
 "nbformat_minor": 1
}
